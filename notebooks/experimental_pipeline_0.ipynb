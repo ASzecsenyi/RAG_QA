{
 "cells": [
  {
   "cell_type": "code",
   "execution_count": 2,
   "outputs": [],
   "source": [
    "from datasets import load_dataset\n",
    "import pprint\n",
    "pp = pprint.PrettyPrinter(indent=4)\n"
   ],
   "metadata": {
    "collapsed": false,
    "ExecuteTime": {
     "end_time": "2023-11-04T23:05:45.491811300Z",
     "start_time": "2023-11-04T23:05:44.070132400Z"
    }
   },
   "id": "3f8a911effd996b7"
  },
  {
   "cell_type": "code",
   "execution_count": null,
   "outputs": [],
   "source": [
    "print(load_dataset('eli5', split='train_eli5')[0])"
   ],
   "metadata": {
    "collapsed": false
   },
   "id": "19bdf9cb61c63d77"
  },
  {
   "cell_type": "code",
   "execution_count": null,
   "outputs": [],
   "source": [
    "print(load_dataset('squad', split='train')[0])"
   ],
   "metadata": {
    "collapsed": false
   },
   "id": "d8c084418ff1a401"
  },
  {
   "cell_type": "code",
   "execution_count": null,
   "outputs": [],
   "source": [
    "print(load_dataset('gooaq', split='train')[999])"
   ],
   "metadata": {
    "collapsed": false
   },
   "id": "95c70b96c1fc540c"
  },
  {
   "cell_type": "code",
   "execution_count": null,
   "outputs": [],
   "source": [
    "print(load_dataset('hotpot_qa', 'distractor', split='train')[0])"
   ],
   "metadata": {
    "collapsed": false
   },
   "id": "de9182f76ad76d21"
  },
  {
   "cell_type": "code",
   "execution_count": null,
   "outputs": [],
   "source": [
    "hpqa = load_dataset('hotpot_qa', 'distractor', split='train')"
   ],
   "metadata": {
    "collapsed": false
   },
   "id": "996cec650caa3a20"
  },
  {
   "cell_type": "code",
   "execution_count": null,
   "outputs": [],
   "source": [
    "# pretty print\n",
    "pp.pprint(hpqa[0])"
   ],
   "metadata": {
    "collapsed": false
   },
   "id": "bbe614d7b341ee57"
  },
  {
   "cell_type": "code",
   "execution_count": 3,
   "outputs": [],
   "source": [
    "newsqa = load_dataset('newsqa', data_dir = '../data/files')"
   ],
   "metadata": {
    "collapsed": false,
    "ExecuteTime": {
     "end_time": "2023-11-04T23:05:55.683129100Z",
     "start_time": "2023-11-04T23:05:51.656577100Z"
    }
   },
   "id": "30e8ffa8d01eecbf"
  },
  {
   "cell_type": "code",
   "execution_count": 4,
   "outputs": [
    {
     "name": "stdout",
     "output_type": "stream",
     "text": [
      "{   'answer_token_ranges': '652:671',\n",
      "    'question': \"for what People just do n't trust their instincts ?\",\n",
      "    'story_id': './cnn/stories/017df5c4fe1e79eb26957ff6a8b4c1e41cd966ac.story',\n",
      "    'story_text': '-LRB- CNN -RRB- -- Decorating in the midst of a financial '\n",
      "                  'recession is not easy . But Thom Filicia , host of the '\n",
      "                  \"Style Network 's `` Dress My Nest , '' author of `` Thom \"\n",
      "                  \"Filicia Style '' and former cast member of `` Queer Eye for \"\n",
      "                  \"the Straight Guy , '' insists that it can be done . `` \"\n",
      "                  'Paint is very affordable . Pick a color that has life and '\n",
      "                  \"personality , '' Thom Filicia says . `` I always tell \"\n",
      "                  \"people , ` Start with what you have . ' Work as much with \"\n",
      "                  'what you have as possible , and then fill in where '\n",
      "                  \"necessary , '' Filicia said . CNN recently asked the design \"\n",
      "                  'guru about decorating on a budget and helpful tips to make '\n",
      "                  'your home look its best . CNN : When you walk into a room '\n",
      "                  \"that you 're going to redesign , where does your mind first \"\n",
      "                  'go ? Thom Filicia : I look at the layout , I look at the '\n",
      "                  'way the space is being used , and I try to figure out what '\n",
      "                  'the best use of the space is ; that it works really well , '\n",
      "                  \"it looks good , that you 're getting the best views , you \"\n",
      "                  \"'re seeing the space , and that you 're getting through the \"\n",
      "                  \"space . CNN : And that 's focusing mainly on furniture ? \"\n",
      "                  'Filicia : That really focuses on all the furniture . You '\n",
      "                  'want to look at where the rug is and where the sofa is and '\n",
      "                  'coffee tables and chairs -- just how the room works . Even '\n",
      "                  \"if it 's great-looking stuff , it sometimes does n't look \"\n",
      "                  'as good as it can look . CNN : What can people on a tight '\n",
      "                  'budget do to rearrange their living room and make it look '\n",
      "                  'better with what they have ? Filicia : Make sure that your '\n",
      "                  'furniture layout works . Make sure that the things you love '\n",
      "                  \"to look at , you 're seeing . Make sure things are n't \"\n",
      "                  'cluttered . Paint is very affordable . Pick a color that '\n",
      "                  'has life and personality . You could do an accent wall '\n",
      "                  'behind your sofa . You could use a low - -LSB- volatile '\n",
      "                  \"organic compound -RSB- paint so it 's environmentally \"\n",
      "                  'friendly . You can use inexpensive up lights . You put them '\n",
      "                  'on either side of a piece of furniture or behind a tree . '\n",
      "                  'You always want to have a Lutron dimmer you plug into the '\n",
      "                  'wall . And then plug your lamps into the Lutron dimmer , '\n",
      "                  'and you can dim the whole room . CNN : As far as '\n",
      "                  'accessories go , like flowers and pillows , where do you '\n",
      "                  'draw the line on too much or not enough ? Filicia : I like '\n",
      "                  'to keep things clean and straightforward . I think one '\n",
      "                  'floral arrangement is usually enough , or maybe a couple '\n",
      "                  'really small cute little ones . Pillows should function . '\n",
      "                  'You want to sit on a sofa and be comfortable . Start with '\n",
      "                  'three : one lumbar in the center and maybe a pair of '\n",
      "                  'pillows left and right . Add a throw , a rug for underfoot '\n",
      "                  '. Those things start to add layers to the room and make it '\n",
      "                  'a little more acoustical . CNN : What are some common '\n",
      "                  'designing rules that people always tend to follow but that '\n",
      "                  'you can actually break ? Filicia : People think that dark '\n",
      "                  'walls make a room smaller . It actually makes the space '\n",
      "                  'bigger . All the corners recede , and it adds a lot of '\n",
      "                  'depth . Also , I think that color definitely adds a lot of '\n",
      "                  \"warmth to spaces . CNN : What 's the most common mistake \"\n",
      "                  \"that people make ? Filicia : People just do n't trust their \"\n",
      "                  \"instincts , and they 're not willing to take a risk . Have \"\n",
      "                  \"fun with it . It 's only decorating . People tend to go \"\n",
      "                  \"with beige and white just because they 're afraid or they \"\n",
      "                  \"do n't want to make a commitment . CNN : If someone had \"\n",
      "                  'just enough money to do one thing in their room , what '\n",
      "                  'would you tell them to focus on ? Filicia : The first thing '\n",
      "                  'you want to really focus on is a great sofa , because it is '\n",
      "                  'really the anchor for the room . In a bedroom , the anchor '\n",
      "                  'piece is your bed . Start with your anchor piece , and that '\n",
      "                  \"'s where you spend your most money . CNN : You have a new \"\n",
      "                  'book out now , is that right ? Filicia : Yup , I have a '\n",
      "                  'book out right now , which is called `` Thom Filicia Style '\n",
      "                  \", '' and it 's a great book . It 's a lot of fun . It 's \"\n",
      "                  'got a lot of great tips in it . It talks about my '\n",
      "                  \"philosophy ; it talks about color and texture . It 's a \"\n",
      "                  'very comprehensive book with case studies . CNN : Can you '\n",
      "                  'give us some tips for making a place eco-friendly on a '\n",
      "                  \"tight budget ? Filicia : It 's very easy to use \"\n",
      "                  'eco-friendly cleaning supplies , environmentally friendly '\n",
      "                  'lighting throughout your house using low wattage or '\n",
      "                  'eco-friendly bulbs . Also , just turning your lights off '\n",
      "                  \"when you 're not in a room ; when you 're brushing your \"\n",
      "                  'teeth not keeping the water running ; taking shorter '\n",
      "                  'showers . These are all really simple , easy ways that we '\n",
      "                  'can all help Mother Earth repair and heal and replenish '\n",
      "                  'itself .'}\n"
     ]
    }
   ],
   "source": [
    "pp.pprint(newsqa['test'][2])"
   ],
   "metadata": {
    "collapsed": false,
    "ExecuteTime": {
     "end_time": "2023-11-04T23:05:56.583872300Z",
     "start_time": "2023-11-04T23:05:56.575867300Z"
    }
   },
   "id": "f48b7bbaf5ca6899"
  },
  {
   "cell_type": "code",
   "execution_count": 9,
   "outputs": [
    {
     "name": "stdout",
     "output_type": "stream",
     "text": [
      "['and', 'they', \"'re\", 'not', 'willing', 'to', 'take', 'a', 'risk', '.', 'Have', 'fun', 'with', 'it', '.', 'It', \"'s\", 'only', 'decorating']\n"
     ]
    }
   ],
   "source": [
    "print(newsqa['test'][2]['story_text'].split()[652:671])"
   ],
   "metadata": {
    "collapsed": false,
    "ExecuteTime": {
     "end_time": "2023-11-04T23:13:24.008735800Z",
     "start_time": "2023-11-04T23:13:23.998161500Z"
    }
   },
   "id": "62f675dd07dd850f"
  },
  {
   "cell_type": "code",
   "execution_count": 10,
   "outputs": [
    {
     "name": "stdout",
     "output_type": "stream",
     "text": [
      "-LRB- CNN -RRB- -- Decorating in the midst of a financial recession is not easy . But Thom Filicia , host of the Style Network 's `` Dress My Nest , '' author of `` Thom Filicia Style '' and former cast member of `` Queer Eye for the Straight Guy , '' insists that it can be done . `` Paint is very affordable . Pick a color that has life and personality , '' Thom Filicia says . `` I always tell people , ` Start with what you have . ' Work as much with what you have as possible , and then fill in where necessary , '' Filicia said . CNN recently asked the design guru about decorating on a budget and helpful tips to make your home look its best . CNN : When you walk into a room that you 're going to redesign , where does your mind first go ? Thom Filicia : I look at the layout , I look at the way the space is being used , and I try to figure out what the best use of the space is ; that it works really well , it looks good , that you 're getting the best views , you 're seeing the space , and that you 're getting through the space . CNN : And that 's focusing mainly on furniture ? Filicia : That really focuses on all the furniture . You want to look at where the rug is and where the sofa is and coffee tables and chairs -- just how the room works . Even if it 's great-looking stuff , it sometimes does n't look as good as it can look . CNN : What can people on a tight budget do to rearrange their living room and make it look better with what they have ? Filicia : Make sure that your furniture layout works . Make sure that the things you love to look at , you 're seeing . Make sure things are n't cluttered . Paint is very affordable . Pick a color that has life and personality . You could do an accent wall behind your sofa . You could use a low - -LSB- volatile organic compound -RSB- paint so it 's environmentally friendly . You can use inexpensive up lights . You put them on either side of a piece of furniture or behind a tree . You always want to have a Lutron dimmer you plug into the wall . And then plug your lamps into the Lutron dimmer , and you can dim the whole room . CNN : As far as accessories go , like flowers and pillows , where do you draw the line on too much or not enough ? Filicia : I like to keep things clean and straightforward . I think one floral arrangement is usually enough , or maybe a couple really small cute little ones . Pillows should function . You want to sit on a sofa and be comfortable . Start with three : one lumbar in the center and maybe a pair of pillows left and right . Add a throw , a rug for underfoot . Those things start to add layers to the room and make it a little more acoustical . CNN : What are some common designing rules that people always tend to follow but that you can actually break ? Filicia : People think that dark walls make a room smaller . It actually makes the space bigger . All the corners recede , and it adds a lot of depth . Also , I think that color definitely adds a lot of warmth to spaces . CNN : What 's the most common mistake that people make ? Filicia : People just do n't trust their instincts , and they 're not willing to take a risk . Have fun with it . It 's only decorating . People tend to go with beige and white just because they 're afraid or they do n't want to make a commitment . CNN : If someone had just enough money to do one thing in their room , what would you tell them to focus on ? Filicia : The first thing you want to really focus on is a great sofa , because it is really the anchor for the room . In a bedroom , the anchor piece is your bed . Start with your anchor piece , and that 's where you spend your most money . CNN : You have a new book out now , is that right ? Filicia : Yup , I have a book out right now , which is called `` Thom Filicia Style , '' and it 's a great book . It 's a lot of fun . It 's got a lot of great tips in it . It talks about my philosophy ; it talks about color and texture . It 's a very comprehensive book with case studies . CNN : Can you give us some tips for making a place eco-friendly on a tight budget ? Filicia : It 's very easy to use eco-friendly cleaning supplies , environmentally friendly lighting throughout your house using low wattage or eco-friendly bulbs . Also , just turning your lights off when you 're not in a room ; when you 're brushing your teeth not keeping the water running ; taking shorter showers . These are all really simple , easy ways that we can all help Mother Earth repair and heal and replenish itself .\n"
     ]
    }
   ],
   "source": [
    "print(newsqa['test'][2]['story_text'])"
   ],
   "metadata": {
    "collapsed": false,
    "ExecuteTime": {
     "end_time": "2023-11-04T23:13:27.250180900Z",
     "start_time": "2023-11-04T23:13:27.235175800Z"
    }
   },
   "id": "202235e3a1b99e21"
  },
  {
   "cell_type": "code",
   "execution_count": 13,
   "outputs": [
    {
     "name": "stdout",
     "output_type": "stream",
     "text": [
      "5126\n",
      "637\n"
     ]
    },
    {
     "data": {
      "text/plain": "                                                   story_text         \\\n                                                        count unique   \nstory_id                                                               \n./cnn/stories/005670c4a85a3122965180585a8868269...          9      1   \n./cnn/stories/00eaf1c06f1e3ecd48160b43f3b3cd196...          7      1   \n./cnn/stories/017df5c4fe1e79eb26957ff6a8b4c1e41...          7      2   \n./cnn/stories/01ffaf507a54d354ecbbe4a7658d60a2e...          3      2   \n./cnn/stories/02311be4aab97a81d2262963896b975c2...         12      1   \n...                                                       ...    ...   \n./cnn/stories/fcd31a94623303cfb9ee19976f9f3b1dc...         12      1   \n./cnn/stories/fe4c002023451791f364f4030e40eac18...          9      1   \n./cnn/stories/ff671b6dd9be9cbc9d44cc68b82889602...          7      2   \n./cnn/stories/ff6af554bf69b47f857da6275f24c0878...          7      1   \n./cnn/stories/ffb0c441ab15bc7c87856aff293ac2728...          7      1   \n\n                                                                                                       \\\n                                                                                                  top   \nstory_id                                                                                                \n./cnn/stories/005670c4a85a3122965180585a8868269...  -LRB- CNN -RRB- -- A rebel group in the Democr...   \n./cnn/stories/00eaf1c06f1e3ecd48160b43f3b3cd196...  ATHENS , Georgia -LRB- CNN -RRB- -- Over the r...   \n./cnn/stories/017df5c4fe1e79eb26957ff6a8b4c1e41...  -LRB- CNN -RRB- -- Decorating in the midst of ...   \n./cnn/stories/01ffaf507a54d354ecbbe4a7658d60a2e...  -LRB- CNN -RRB- -- A Saudi Arabian blogger det...   \n./cnn/stories/02311be4aab97a81d2262963896b975c2...  HANNOVER , Germany -- Germany maintained the p...   \n...                                                                                               ...   \n./cnn/stories/fcd31a94623303cfb9ee19976f9f3b1dc...  LIMA , Peru -LRB- CNN -RRB- -- Tensions betwee...   \n./cnn/stories/fe4c002023451791f364f4030e40eac18...  WASHINGTON -LRB- CNN -RRB- -- As President Oba...   \n./cnn/stories/ff671b6dd9be9cbc9d44cc68b82889602...  -LRB- CNN -RRB- -- Archaeologists in Israel ha...   \n./cnn/stories/ff6af554bf69b47f857da6275f24c0878...  WASHINGTON -LRB- CNN -RRB- -- The United State...   \n./cnn/stories/ffb0c441ab15bc7c87856aff293ac2728...  WASHINGTON -LRB- CNN -RRB- -- The government i...   \n\n                                                        question         \\\n                                                   freq    count unique   \nstory_id                                                                  \n./cnn/stories/005670c4a85a3122965180585a8868269...    9        9      9   \n./cnn/stories/00eaf1c06f1e3ecd48160b43f3b3cd196...    7        7      7   \n./cnn/stories/017df5c4fe1e79eb26957ff6a8b4c1e41...    6        7      7   \n./cnn/stories/01ffaf507a54d354ecbbe4a7658d60a2e...    2        3      3   \n./cnn/stories/02311be4aab97a81d2262963896b975c2...   12       12     12   \n...                                                 ...      ...    ...   \n./cnn/stories/fcd31a94623303cfb9ee19976f9f3b1dc...   12       12     12   \n./cnn/stories/fe4c002023451791f364f4030e40eac18...    9        9      9   \n./cnn/stories/ff671b6dd9be9cbc9d44cc68b82889602...    6        7      7   \n./cnn/stories/ff6af554bf69b47f857da6275f24c0878...    7        7      7   \n./cnn/stories/ffb0c441ab15bc7c87856aff293ac2728...    7        7      7   \n\n                                                                                                       \\\n                                                                                                  top   \nstory_id                                                                                                \n./cnn/stories/005670c4a85a3122965180585a8868269...              What is the name of the rebel group ?   \n./cnn/stories/00eaf1c06f1e3ecd48160b43f3b3cd196...  What can be turned into valuable , renewable r...   \n./cnn/stories/017df5c4fe1e79eb26957ff6a8b4c1e41...  for what People just do n't trust their instin...   \n./cnn/stories/01ffaf507a54d354ecbbe4a7658d60a2e...                                   who was detained   \n./cnn/stories/02311be4aab97a81d2262963896b975c2...                             Who did Germany beat ?   \n...                                                                                               ...   \n./cnn/stories/fcd31a94623303cfb9ee19976f9f3b1dc...  Where did Gen. Donayre make anti-Chile comments ?   \n./cnn/stories/fe4c002023451791f364f4030e40eac18...       Obama 's approval rating in January was what   \n./cnn/stories/ff671b6dd9be9cbc9d44cc68b82889602...          What do the details suggest the bust is ?   \n./cnn/stories/ff6af554bf69b47f857da6275f24c0878...         What would the U.S. share under the deal ?   \n./cnn/stories/ffb0c441ab15bc7c87856aff293ac2728...                  what is the labeling change for >   \n\n                                                        answer_token_ranges  \\\n                                                   freq               count   \nstory_id                                                                      \n./cnn/stories/005670c4a85a3122965180585a8868269...    1                   9   \n./cnn/stories/00eaf1c06f1e3ecd48160b43f3b3cd196...    1                   7   \n./cnn/stories/017df5c4fe1e79eb26957ff6a8b4c1e41...    1                   7   \n./cnn/stories/01ffaf507a54d354ecbbe4a7658d60a2e...    1                   3   \n./cnn/stories/02311be4aab97a81d2262963896b975c2...    1                  12   \n...                                                 ...                 ...   \n./cnn/stories/fcd31a94623303cfb9ee19976f9f3b1dc...    1                  12   \n./cnn/stories/fe4c002023451791f364f4030e40eac18...    1                   9   \n./cnn/stories/ff671b6dd9be9cbc9d44cc68b82889602...    1                   7   \n./cnn/stories/ff6af554bf69b47f857da6275f24c0878...    1                   7   \n./cnn/stories/ffb0c441ab15bc7c87856aff293ac2728...    1                   7   \n\n                                                                         \n                                                   unique      top freq  \nstory_id                                                                 \n./cnn/stories/005670c4a85a3122965180585a8868269...      7    48:55    2  \n./cnn/stories/00eaf1c06f1e3ecd48160b43f3b3cd196...      7    48:53    1  \n./cnn/stories/017df5c4fe1e79eb26957ff6a8b4c1e41...      6    20:51    2  \n./cnn/stories/01ffaf507a54d354ecbbe4a7658d60a2e...      3    49:51    1  \n./cnn/stories/02311be4aab97a81d2262963896b975c2...     10    37:38    2  \n...                                                   ...      ...  ...  \n./cnn/stories/fcd31a94623303cfb9ee19976f9f3b1dc...     10  183:184    2  \n./cnn/stories/fe4c002023451791f364f4030e40eac18...      7  110:112    2  \n./cnn/stories/ff671b6dd9be9cbc9d44cc68b82889602...      7    16:25    1  \n./cnn/stories/ff6af554bf69b47f857da6275f24c0878...      6  148:150    2  \n./cnn/stories/ffb0c441ab15bc7c87856aff293ac2728...      7    14:15    1  \n\n[637 rows x 12 columns]",
      "text/html": "<div>\n<style scoped>\n    .dataframe tbody tr th:only-of-type {\n        vertical-align: middle;\n    }\n\n    .dataframe tbody tr th {\n        vertical-align: top;\n    }\n\n    .dataframe thead tr th {\n        text-align: left;\n    }\n\n    .dataframe thead tr:last-of-type th {\n        text-align: right;\n    }\n</style>\n<table border=\"1\" class=\"dataframe\">\n  <thead>\n    <tr>\n      <th></th>\n      <th colspan=\"4\" halign=\"left\">story_text</th>\n      <th colspan=\"4\" halign=\"left\">question</th>\n      <th colspan=\"4\" halign=\"left\">answer_token_ranges</th>\n    </tr>\n    <tr>\n      <th></th>\n      <th>count</th>\n      <th>unique</th>\n      <th>top</th>\n      <th>freq</th>\n      <th>count</th>\n      <th>unique</th>\n      <th>top</th>\n      <th>freq</th>\n      <th>count</th>\n      <th>unique</th>\n      <th>top</th>\n      <th>freq</th>\n    </tr>\n    <tr>\n      <th>story_id</th>\n      <th></th>\n      <th></th>\n      <th></th>\n      <th></th>\n      <th></th>\n      <th></th>\n      <th></th>\n      <th></th>\n      <th></th>\n      <th></th>\n      <th></th>\n      <th></th>\n    </tr>\n  </thead>\n  <tbody>\n    <tr>\n      <th>./cnn/stories/005670c4a85a3122965180585a88682692b8d1b9.story</th>\n      <td>9</td>\n      <td>1</td>\n      <td>-LRB- CNN -RRB- -- A rebel group in the Democr...</td>\n      <td>9</td>\n      <td>9</td>\n      <td>9</td>\n      <td>What is the name of the rebel group ?</td>\n      <td>1</td>\n      <td>9</td>\n      <td>7</td>\n      <td>48:55</td>\n      <td>2</td>\n    </tr>\n    <tr>\n      <th>./cnn/stories/00eaf1c06f1e3ecd48160b43f3b3cd196a319c8a.story</th>\n      <td>7</td>\n      <td>1</td>\n      <td>ATHENS , Georgia -LRB- CNN -RRB- -- Over the r...</td>\n      <td>7</td>\n      <td>7</td>\n      <td>7</td>\n      <td>What can be turned into valuable , renewable r...</td>\n      <td>1</td>\n      <td>7</td>\n      <td>7</td>\n      <td>48:53</td>\n      <td>1</td>\n    </tr>\n    <tr>\n      <th>./cnn/stories/017df5c4fe1e79eb26957ff6a8b4c1e41cd966ac.story</th>\n      <td>7</td>\n      <td>2</td>\n      <td>-LRB- CNN -RRB- -- Decorating in the midst of ...</td>\n      <td>6</td>\n      <td>7</td>\n      <td>7</td>\n      <td>for what People just do n't trust their instin...</td>\n      <td>1</td>\n      <td>7</td>\n      <td>6</td>\n      <td>20:51</td>\n      <td>2</td>\n    </tr>\n    <tr>\n      <th>./cnn/stories/01ffaf507a54d354ecbbe4a7658d60a2e553e1d8.story</th>\n      <td>3</td>\n      <td>2</td>\n      <td>-LRB- CNN -RRB- -- A Saudi Arabian blogger det...</td>\n      <td>2</td>\n      <td>3</td>\n      <td>3</td>\n      <td>who was detained</td>\n      <td>1</td>\n      <td>3</td>\n      <td>3</td>\n      <td>49:51</td>\n      <td>1</td>\n    </tr>\n    <tr>\n      <th>./cnn/stories/02311be4aab97a81d2262963896b975c27f6503d.story</th>\n      <td>12</td>\n      <td>1</td>\n      <td>HANNOVER , Germany -- Germany maintained the p...</td>\n      <td>12</td>\n      <td>12</td>\n      <td>12</td>\n      <td>Who did Germany beat ?</td>\n      <td>1</td>\n      <td>12</td>\n      <td>10</td>\n      <td>37:38</td>\n      <td>2</td>\n    </tr>\n    <tr>\n      <th>...</th>\n      <td>...</td>\n      <td>...</td>\n      <td>...</td>\n      <td>...</td>\n      <td>...</td>\n      <td>...</td>\n      <td>...</td>\n      <td>...</td>\n      <td>...</td>\n      <td>...</td>\n      <td>...</td>\n      <td>...</td>\n    </tr>\n    <tr>\n      <th>./cnn/stories/fcd31a94623303cfb9ee19976f9f3b1dc519efd5.story</th>\n      <td>12</td>\n      <td>1</td>\n      <td>LIMA , Peru -LRB- CNN -RRB- -- Tensions betwee...</td>\n      <td>12</td>\n      <td>12</td>\n      <td>12</td>\n      <td>Where did Gen. Donayre make anti-Chile comments ?</td>\n      <td>1</td>\n      <td>12</td>\n      <td>10</td>\n      <td>183:184</td>\n      <td>2</td>\n    </tr>\n    <tr>\n      <th>./cnn/stories/fe4c002023451791f364f4030e40eac18a8fcb00.story</th>\n      <td>9</td>\n      <td>1</td>\n      <td>WASHINGTON -LRB- CNN -RRB- -- As President Oba...</td>\n      <td>9</td>\n      <td>9</td>\n      <td>9</td>\n      <td>Obama 's approval rating in January was what</td>\n      <td>1</td>\n      <td>9</td>\n      <td>7</td>\n      <td>110:112</td>\n      <td>2</td>\n    </tr>\n    <tr>\n      <th>./cnn/stories/ff671b6dd9be9cbc9d44cc68b828896021cc5be5.story</th>\n      <td>7</td>\n      <td>2</td>\n      <td>-LRB- CNN -RRB- -- Archaeologists in Israel ha...</td>\n      <td>6</td>\n      <td>7</td>\n      <td>7</td>\n      <td>What do the details suggest the bust is ?</td>\n      <td>1</td>\n      <td>7</td>\n      <td>7</td>\n      <td>16:25</td>\n      <td>1</td>\n    </tr>\n    <tr>\n      <th>./cnn/stories/ff6af554bf69b47f857da6275f24c0878c1ecd3a.story</th>\n      <td>7</td>\n      <td>1</td>\n      <td>WASHINGTON -LRB- CNN -RRB- -- The United State...</td>\n      <td>7</td>\n      <td>7</td>\n      <td>7</td>\n      <td>What would the U.S. share under the deal ?</td>\n      <td>1</td>\n      <td>7</td>\n      <td>6</td>\n      <td>148:150</td>\n      <td>2</td>\n    </tr>\n    <tr>\n      <th>./cnn/stories/ffb0c441ab15bc7c87856aff293ac2728394957b.story</th>\n      <td>7</td>\n      <td>1</td>\n      <td>WASHINGTON -LRB- CNN -RRB- -- The government i...</td>\n      <td>7</td>\n      <td>7</td>\n      <td>7</td>\n      <td>what is the labeling change for &gt;</td>\n      <td>1</td>\n      <td>7</td>\n      <td>7</td>\n      <td>14:15</td>\n      <td>1</td>\n    </tr>\n  </tbody>\n</table>\n<p>637 rows × 12 columns</p>\n</div>"
     },
     "execution_count": 13,
     "metadata": {},
     "output_type": "execute_result"
    }
   ],
   "source": [
    "print(len(newsqa['test']))\n",
    "print(len({case[\"story_id\"] for case in newsqa['test']}))\n",
    "# pandas describe cases per story\n",
    "import pandas as pd\n",
    "df = pd.DataFrame(newsqa['test'])\n",
    "df.groupby('story_id').describe()\n"
   ],
   "metadata": {
    "collapsed": false,
    "ExecuteTime": {
     "end_time": "2023-11-01T20:48:30.293181900Z",
     "start_time": "2023-11-01T20:48:28.868990300Z"
    }
   },
   "id": "745ce2487450edd1"
  },
  {
   "cell_type": "code",
   "execution_count": 15,
   "outputs": [
    {
     "name": "stdout",
     "output_type": "stream",
     "text": [
      "3734.454155286773\n"
     ]
    }
   ],
   "source": [
    "# average length of stories\n",
    "import numpy as np\n",
    "print(np.mean([len(story['story_text']) for story in newsqa['test']]))"
   ],
   "metadata": {
    "collapsed": false,
    "ExecuteTime": {
     "end_time": "2023-11-01T21:02:22.973075800Z",
     "start_time": "2023-11-01T21:02:22.802691900Z"
    }
   },
   "id": "7d5d8b919ee258df"
  },
  {
   "cell_type": "code",
   "execution_count": null,
   "outputs": [],
   "source": [],
   "metadata": {
    "collapsed": false
   },
   "id": "e10afabbc9247262"
  }
 ],
 "metadata": {
  "kernelspec": {
   "display_name": "Python 3",
   "language": "python",
   "name": "python3"
  },
  "language_info": {
   "codemirror_mode": {
    "name": "ipython",
    "version": 2
   },
   "file_extension": ".py",
   "mimetype": "text/x-python",
   "name": "python",
   "nbconvert_exporter": "python",
   "pygments_lexer": "ipython2",
   "version": "2.7.6"
  }
 },
 "nbformat": 4,
 "nbformat_minor": 5
}
