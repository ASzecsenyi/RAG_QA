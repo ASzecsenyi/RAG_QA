{
 "cells": [
  {
   "cell_type": "code",
   "execution_count": null,
   "outputs": [],
   "source": [
    "from datasets import load_dataset"
   ],
   "metadata": {
    "collapsed": false
   },
   "id": "3f8a911effd996b7"
  },
  {
   "cell_type": "code",
   "execution_count": null,
   "outputs": [],
   "source": [
    "print(load_dataset('eli5', split='train_eli5')[0])"
   ],
   "metadata": {
    "collapsed": false
   },
   "id": "19bdf9cb61c63d77"
  },
  {
   "cell_type": "code",
   "execution_count": null,
   "outputs": [],
   "source": [
    "print(load_dataset('squad', split='train')[0])"
   ],
   "metadata": {
    "collapsed": false
   },
   "id": "d8c084418ff1a401"
  },
  {
   "cell_type": "code",
   "execution_count": null,
   "outputs": [],
   "source": [
    "print(load_dataset('gooaq', split='train')[999])"
   ],
   "metadata": {
    "collapsed": false
   },
   "id": "95c70b96c1fc540c"
  },
  {
   "cell_type": "code",
   "execution_count": null,
   "outputs": [],
   "source": [
    "print(load_dataset('hotpot_qa', 'distractor', split='train')[0])"
   ],
   "metadata": {
    "collapsed": false
   },
   "id": "de9182f76ad76d21"
  },
  {
   "cell_type": "code",
   "execution_count": null,
   "outputs": [],
   "source": [
    "hpqa = load_dataset('hotpot_qa', 'distractor', split='train')"
   ],
   "metadata": {
    "collapsed": false
   },
   "id": "996cec650caa3a20"
  },
  {
   "cell_type": "code",
   "execution_count": null,
   "outputs": [],
   "source": [
    "# pretty print\n",
    "import pprint\n",
    "pp = pprint.PrettyPrinter(indent=4)\n",
    "pp.pprint(hpqa[0])"
   ],
   "metadata": {
    "collapsed": false
   },
   "id": "bbe614d7b341ee57"
  },
  {
   "cell_type": "code",
   "execution_count": null,
   "outputs": [],
   "source": [
    "newsqa = load_dataset('newsqa', data_dir = '../data/files')"
   ],
   "metadata": {
    "collapsed": false
   },
   "id": "30e8ffa8d01eecbf"
  },
  {
   "cell_type": "code",
   "execution_count": null,
   "outputs": [],
   "source": [
    "pp.pprint(newsqa['test'][2])"
   ],
   "metadata": {
    "collapsed": false
   },
   "id": "f48b7bbaf5ca6899"
  },
  {
   "cell_type": "code",
   "execution_count": null,
   "outputs": [],
   "source": [
    "print(len(newsqa['test']))\n",
    "print(newsqa['train'])\n",
    "print(newsqa['validation'])"
   ],
   "metadata": {
    "collapsed": false
   },
   "id": "745ce2487450edd1"
  },
  {
   "cell_type": "code",
   "execution_count": null,
   "outputs": [],
   "source": [],
   "metadata": {
    "collapsed": false
   },
   "id": "7d5d8b919ee258df"
  }
 ],
 "metadata": {
  "kernelspec": {
   "display_name": "Python 3",
   "language": "python",
   "name": "python3"
  },
  "language_info": {
   "codemirror_mode": {
    "name": "ipython",
    "version": 2
   },
   "file_extension": ".py",
   "mimetype": "text/x-python",
   "name": "python",
   "nbconvert_exporter": "python",
   "pygments_lexer": "ipython2",
   "version": "2.7.6"
  }
 },
 "nbformat": 4,
 "nbformat_minor": 5
}
