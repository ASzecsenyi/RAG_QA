{
 "cells": [
  {
   "cell_type": "code",
   "execution_count": 1,
   "id": "initial_id",
   "metadata": {
    "collapsed": true,
    "ExecuteTime": {
     "end_time": "2024-02-02T10:33:39.265764100Z",
     "start_time": "2024-02-02T10:33:37.984992700Z"
    }
   },
   "outputs": [],
   "source": [
    "from datasets import load_dataset\n",
    "import pandas as pd\n",
    "\n",
    "import matplotlib.pyplot as plt\n",
    "import numpy as np"
   ]
  },
  {
   "cell_type": "code",
   "execution_count": 2,
   "outputs": [],
   "source": [
    "newsqa = load_dataset('newsqa', data_dir = '../data/files')\n"
   ],
   "metadata": {
    "collapsed": false,
    "ExecuteTime": {
     "end_time": "2024-02-02T10:33:42.018678Z",
     "start_time": "2024-02-02T10:33:39.266762900Z"
    }
   },
   "id": "bbf1c4c0235626b4"
  },
  {
   "cell_type": "code",
   "execution_count": 18,
   "outputs": [],
   "source": [
    "# get a table of the lengths of 'story_text' in the train and test sets, with unique 'story_id'\n",
    "\n",
    "lengths_train = pd.DataFrame([{'story_id': x['story_id'], 'length': len(x['story_text'].split())} for x in newsqa['train']])\n",
    "lengths_test = pd.DataFrame([{'story_id': x['story_id'], 'length': len(x['story_text'].split())} for x in newsqa['test']])"
   ],
   "metadata": {
    "collapsed": false,
    "ExecuteTime": {
     "end_time": "2024-02-02T10:37:43.400484700Z",
     "start_time": "2024-02-02T10:37:37.120192900Z"
    }
   },
   "id": "70989a9694def197"
  },
  {
   "cell_type": "code",
   "execution_count": 19,
   "outputs": [
    {
     "data": {
      "text/plain": "                                                story_id  length\n0      ./cnn/stories/42d01e187213e86f5fe617fe32e716ff...     237\n1      ./cnn/stories/c48228a52f26aca65c31fad273e66164...     446\n2      ./cnn/stories/c65ed85800e4535f4bbbfa2c34d7d963...     780\n3      ./cnn/stories/0cf66b646e9b32076513c050edf32a79...     473\n4      ./cnn/stories/13012604e3203c18df09289dfedd14cd...     396\n...                                                  ...     ...\n92544  ./cnn/stories/5e7c990b12d43b077d476413a16c05fa...    1903\n92545  ./cnn/stories/7c06e091d7294c87ba42df50008783d9...     763\n92546  ./cnn/stories/7b2b414d8cbc968f4df05bcefb2f9f0f...     866\n92547  ./cnn/stories/4566e90ca5e65f0323c41319030ca434...     389\n92548  ./cnn/stories/3666f90c41e7c7f184b5d237fa84fc07...     215\n\n[92549 rows x 2 columns]",
      "text/html": "<div>\n<style scoped>\n    .dataframe tbody tr th:only-of-type {\n        vertical-align: middle;\n    }\n\n    .dataframe tbody tr th {\n        vertical-align: top;\n    }\n\n    .dataframe thead th {\n        text-align: right;\n    }\n</style>\n<table border=\"1\" class=\"dataframe\">\n  <thead>\n    <tr style=\"text-align: right;\">\n      <th></th>\n      <th>story_id</th>\n      <th>length</th>\n    </tr>\n  </thead>\n  <tbody>\n    <tr>\n      <th>0</th>\n      <td>./cnn/stories/42d01e187213e86f5fe617fe32e716ff...</td>\n      <td>237</td>\n    </tr>\n    <tr>\n      <th>1</th>\n      <td>./cnn/stories/c48228a52f26aca65c31fad273e66164...</td>\n      <td>446</td>\n    </tr>\n    <tr>\n      <th>2</th>\n      <td>./cnn/stories/c65ed85800e4535f4bbbfa2c34d7d963...</td>\n      <td>780</td>\n    </tr>\n    <tr>\n      <th>3</th>\n      <td>./cnn/stories/0cf66b646e9b32076513c050edf32a79...</td>\n      <td>473</td>\n    </tr>\n    <tr>\n      <th>4</th>\n      <td>./cnn/stories/13012604e3203c18df09289dfedd14cd...</td>\n      <td>396</td>\n    </tr>\n    <tr>\n      <th>...</th>\n      <td>...</td>\n      <td>...</td>\n    </tr>\n    <tr>\n      <th>92544</th>\n      <td>./cnn/stories/5e7c990b12d43b077d476413a16c05fa...</td>\n      <td>1903</td>\n    </tr>\n    <tr>\n      <th>92545</th>\n      <td>./cnn/stories/7c06e091d7294c87ba42df50008783d9...</td>\n      <td>763</td>\n    </tr>\n    <tr>\n      <th>92546</th>\n      <td>./cnn/stories/7b2b414d8cbc968f4df05bcefb2f9f0f...</td>\n      <td>866</td>\n    </tr>\n    <tr>\n      <th>92547</th>\n      <td>./cnn/stories/4566e90ca5e65f0323c41319030ca434...</td>\n      <td>389</td>\n    </tr>\n    <tr>\n      <th>92548</th>\n      <td>./cnn/stories/3666f90c41e7c7f184b5d237fa84fc07...</td>\n      <td>215</td>\n    </tr>\n  </tbody>\n</table>\n<p>92549 rows × 2 columns</p>\n</div>"
     },
     "execution_count": 19,
     "metadata": {},
     "output_type": "execute_result"
    }
   ],
   "source": [
    "lengths_train"
   ],
   "metadata": {
    "collapsed": false,
    "ExecuteTime": {
     "end_time": "2024-02-02T10:37:47.145876700Z",
     "start_time": "2024-02-02T10:37:47.134869Z"
    }
   },
   "id": "2357f460fe94145b"
  },
  {
   "cell_type": "code",
   "execution_count": 20,
   "outputs": [
    {
     "data": {
      "text/plain": "False"
     },
     "execution_count": 20,
     "metadata": {},
     "output_type": "execute_result"
    }
   ],
   "source": [
    "# verify the story ids are unique\n",
    "lengths_train['story_id'].nunique() == len(lengths_train)"
   ],
   "metadata": {
    "collapsed": false,
    "ExecuteTime": {
     "end_time": "2024-02-02T10:37:49.853990300Z",
     "start_time": "2024-02-02T10:37:49.831054800Z"
    }
   },
   "id": "28c2f037bf5a501e"
  },
  {
   "cell_type": "code",
   "execution_count": 21,
   "outputs": [],
   "source": [
    "# make them unique in story_id, if lengths are different, keep the lowest one\n",
    "lengths_train = lengths_train.groupby('story_id').agg('min').reset_index()"
   ],
   "metadata": {
    "collapsed": false,
    "ExecuteTime": {
     "end_time": "2024-02-02T10:37:54.074020800Z",
     "start_time": "2024-02-02T10:37:54.042418500Z"
    }
   },
   "id": "7e1b60c3903e6df9"
  },
  {
   "cell_type": "code",
   "execution_count": 22,
   "outputs": [
    {
     "data": {
      "text/plain": "True"
     },
     "execution_count": 22,
     "metadata": {},
     "output_type": "execute_result"
    }
   ],
   "source": [
    "lengths_train['story_id'].nunique() == len(lengths_train)"
   ],
   "metadata": {
    "collapsed": false,
    "ExecuteTime": {
     "end_time": "2024-02-02T10:37:56.123428600Z",
     "start_time": "2024-02-02T10:37:56.113111Z"
    }
   },
   "id": "f99f232939e9c874"
  },
  {
   "cell_type": "code",
   "execution_count": 23,
   "outputs": [
    {
     "data": {
      "text/plain": "                                                story_id  length\n0      ./cnn/stories/0005d61497d21ff37a17751829bd7e3b...    1420\n1      ./cnn/stories/00156d9892fb27f1d2e100cbdd8a3997...     347\n2      ./cnn/stories/002a083c3893b1fde734280b9eec28d4...     260\n3      ./cnn/stories/002c962834b7886c600a31a35053543e...    1174\n4      ./cnn/stories/002cceec34994ff6ff91f6232054e5f7...    1133\n...                                                  ...     ...\n11463  ./cnn/stories/ffed340ef37e4dbe9f38a85fd6219891...     890\n11464  ./cnn/stories/fff0486b2ea7e8ba4132c8e8cb87236f...     773\n11465  ./cnn/stories/fff32094b00f3780cc98fe43bd98aace...     749\n11466  ./cnn/stories/fffc660ed605dc82ba9f8de5b8e39e44...     949\n11467  ./cnn/stories/fffcaffda91f80b841efaefe04704e03...     288\n\n[11468 rows x 2 columns]",
      "text/html": "<div>\n<style scoped>\n    .dataframe tbody tr th:only-of-type {\n        vertical-align: middle;\n    }\n\n    .dataframe tbody tr th {\n        vertical-align: top;\n    }\n\n    .dataframe thead th {\n        text-align: right;\n    }\n</style>\n<table border=\"1\" class=\"dataframe\">\n  <thead>\n    <tr style=\"text-align: right;\">\n      <th></th>\n      <th>story_id</th>\n      <th>length</th>\n    </tr>\n  </thead>\n  <tbody>\n    <tr>\n      <th>0</th>\n      <td>./cnn/stories/0005d61497d21ff37a17751829bd7e3b...</td>\n      <td>1420</td>\n    </tr>\n    <tr>\n      <th>1</th>\n      <td>./cnn/stories/00156d9892fb27f1d2e100cbdd8a3997...</td>\n      <td>347</td>\n    </tr>\n    <tr>\n      <th>2</th>\n      <td>./cnn/stories/002a083c3893b1fde734280b9eec28d4...</td>\n      <td>260</td>\n    </tr>\n    <tr>\n      <th>3</th>\n      <td>./cnn/stories/002c962834b7886c600a31a35053543e...</td>\n      <td>1174</td>\n    </tr>\n    <tr>\n      <th>4</th>\n      <td>./cnn/stories/002cceec34994ff6ff91f6232054e5f7...</td>\n      <td>1133</td>\n    </tr>\n    <tr>\n      <th>...</th>\n      <td>...</td>\n      <td>...</td>\n    </tr>\n    <tr>\n      <th>11463</th>\n      <td>./cnn/stories/ffed340ef37e4dbe9f38a85fd6219891...</td>\n      <td>890</td>\n    </tr>\n    <tr>\n      <th>11464</th>\n      <td>./cnn/stories/fff0486b2ea7e8ba4132c8e8cb87236f...</td>\n      <td>773</td>\n    </tr>\n    <tr>\n      <th>11465</th>\n      <td>./cnn/stories/fff32094b00f3780cc98fe43bd98aace...</td>\n      <td>749</td>\n    </tr>\n    <tr>\n      <th>11466</th>\n      <td>./cnn/stories/fffc660ed605dc82ba9f8de5b8e39e44...</td>\n      <td>949</td>\n    </tr>\n    <tr>\n      <th>11467</th>\n      <td>./cnn/stories/fffcaffda91f80b841efaefe04704e03...</td>\n      <td>288</td>\n    </tr>\n  </tbody>\n</table>\n<p>11468 rows × 2 columns</p>\n</div>"
     },
     "execution_count": 23,
     "metadata": {},
     "output_type": "execute_result"
    }
   ],
   "source": [
    "lengths_train"
   ],
   "metadata": {
    "collapsed": false,
    "ExecuteTime": {
     "end_time": "2024-02-02T10:38:00.392064400Z",
     "start_time": "2024-02-02T10:38:00.371451900Z"
    }
   },
   "id": "e984d9e794b483d4"
  },
  {
   "cell_type": "code",
   "execution_count": 24,
   "outputs": [
    {
     "data": {
      "text/plain": "story_id\n./cnn/stories/0005d61497d21ff37a17751829bd7e3b6e4a7c5c.story    1\n./cnn/stories/ab503d942af4e4f3940140304b0b4952a82435d7.story    1\n./cnn/stories/aadee19cb8c3afe90bd21ae36fea1b12420b0378.story    1\n./cnn/stories/aae1ee90c9619b609ffa9810a25ecf58f79e91c1.story    1\n./cnn/stories/aae29a7438a79a3a29ede0365a2f8d289358ccad.story    1\n                                                               ..\n./cnn/stories/566be049908d10cc04f0284ea1734f8b85b688e1.story    1\n./cnn/stories/568239199d0ad8578ff16ee5df0b4ab6f36e395b.story    1\n./cnn/stories/5683f5fe9a58bc820c982c148791c58f50157be9.story    1\n./cnn/stories/5691704619da40d4207cf10c57fc809cbef52893.story    1\n./cnn/stories/fffcaffda91f80b841efaefe04704e0357e4276c.story    1\nName: count, Length: 11468, dtype: int64"
     },
     "execution_count": 24,
     "metadata": {},
     "output_type": "execute_result"
    }
   ],
   "source": [
    "# count num of repeated story ids\n",
    "lengths_train['story_id'].value_counts()"
   ],
   "metadata": {
    "collapsed": false,
    "ExecuteTime": {
     "end_time": "2024-02-02T10:38:04.297275400Z",
     "start_time": "2024-02-02T10:38:04.277599800Z"
    }
   },
   "id": "659f34d1a08a523c"
  },
  {
   "cell_type": "code",
   "execution_count": 7,
   "outputs": [],
   "source": [
    "lengths_train = [len(x['story_text'].split()) for x in newsqa['train']]\n",
    "lengths_test = [len(x['story_text'].split()) for x in newsqa['test']]"
   ],
   "metadata": {
    "collapsed": false,
    "ExecuteTime": {
     "end_time": "2024-02-02T10:33:54.694684100Z",
     "start_time": "2024-02-02T10:33:48.355663100Z"
    }
   },
   "id": "ac205d5986af641a"
  },
  {
   "cell_type": "code",
   "execution_count": 7,
   "outputs": [],
   "source": [],
   "metadata": {
    "collapsed": false,
    "ExecuteTime": {
     "end_time": "2024-02-02T10:33:54.703132700Z",
     "start_time": "2024-02-02T10:33:54.696126500Z"
    }
   },
   "id": "8c4398eb6952a72e"
  },
  {
   "cell_type": "code",
   "execution_count": 8,
   "outputs": [],
   "source": [
    "# create bar plot of lengths"
   ],
   "metadata": {
    "collapsed": false,
    "ExecuteTime": {
     "end_time": "2024-02-02T10:33:55.097214Z",
     "start_time": "2024-02-02T10:33:54.699133300Z"
    }
   },
   "id": "be94783d328c0b3d"
  },
  {
   "cell_type": "code",
   "execution_count": 9,
   "outputs": [
    {
     "data": {
      "text/plain": "<Figure size 640x480 with 1 Axes>",
      "image/png": "[encoded data removed]"
     },
     "metadata": {},
     "output_type": "display_data"
    }
   ],
   "source": [
    "\n",
    "plt.hist(lengths_train, bins = np.arange(0, 2501, 500))\n",
    "plt.show()"
   ],
   "metadata": {
    "collapsed": false,
    "ExecuteTime": {
     "end_time": "2024-02-02T10:33:55.407757300Z",
     "start_time": "2024-02-02T10:33:55.098214400Z"
    }
   },
   "id": "9c222a620c7e7dcd"
  },
  {
   "cell_type": "code",
   "execution_count": 10,
   "outputs": [
    {
     "data": {
      "text/plain": "<Figure size 640x480 with 1 Axes>",
      "image/png": "[encoded data removed]"
     },
     "metadata": {},
     "output_type": "display_data"
    }
   ],
   "source": [
    "plt.hist(lengths_test, bins = np.arange(0, 2501, 500))\n",
    "plt.show()"
   ],
   "metadata": {
    "collapsed": false,
    "ExecuteTime": {
     "end_time": "2024-02-02T10:33:55.498884800Z",
     "start_time": "2024-02-02T10:33:55.401758500Z"
    }
   },
   "id": "12934cbf0f2601b8"
  },
  {
   "cell_type": "code",
   "execution_count": 10,
   "outputs": [],
   "source": [],
   "metadata": {
    "collapsed": false,
    "ExecuteTime": {
     "end_time": "2024-02-02T10:33:55.498884800Z",
     "start_time": "2024-02-02T10:33:55.486510100Z"
    }
   },
   "id": "399abd64bd6e58b8"
  }
 ],
 "metadata": {
  "kernelspec": {
   "display_name": "Python 3",
   "language": "python",
   "name": "python3"
  },
  "language_info": {
   "codemirror_mode": {
    "name": "ipython",
    "version": 2
   },
   "file_extension": ".py",
   "mimetype": "text/x-python",
   "name": "python",
   "nbconvert_exporter": "python",
   "pygments_lexer": "ipython2",
   "version": "2.7.6"
  }
 },
 "nbformat": 4,
 "nbformat_minor": 5
}
